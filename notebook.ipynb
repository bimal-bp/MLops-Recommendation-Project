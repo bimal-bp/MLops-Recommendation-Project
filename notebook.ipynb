{
 "cells": [
  {
   "cell_type": "code",
   "execution_count": 3,
   "metadata": {},
   "outputs": [],
   "source": [
    "import pandas as pd \n",
    "import numpy as np \n",
    "import matplotlib.pyplot as plt \n",
    "import seaborn as sns"
   ]
  },
  {
   "cell_type": "code",
   "execution_count": 2,
   "metadata": {},
   "outputs": [],
   "source": [
    "df2=pd.read_csv('D:\\MLops-Recommendation-Project\\dataset\\Sales_Amazon_Cleaned_final.csv')"
   ]
  },
  {
   "cell_type": "code",
   "execution_count": 9,
   "metadata": {},
   "outputs": [
    {
     "data": {
      "text/plain": [
       "(151809, 18)"
      ]
     },
     "execution_count": 9,
     "metadata": {},
     "output_type": "execute_result"
    }
   ],
   "source": [
    "df2.shape"
   ]
  },
  {
   "cell_type": "code",
   "execution_count": 10,
   "metadata": {},
   "outputs": [
    {
     "data": {
      "text/html": [
       "<div>\n",
       "<style scoped>\n",
       "    .dataframe tbody tr th:only-of-type {\n",
       "        vertical-align: middle;\n",
       "    }\n",
       "\n",
       "    .dataframe tbody tr th {\n",
       "        vertical-align: top;\n",
       "    }\n",
       "\n",
       "    .dataframe thead th {\n",
       "        text-align: right;\n",
       "    }\n",
       "</style>\n",
       "<table border=\"1\" class=\"dataframe\">\n",
       "  <thead>\n",
       "    <tr style=\"text-align: right;\">\n",
       "      <th></th>\n",
       "      <th>Unnamed: 0</th>\n",
       "      <th>user_id</th>\n",
       "      <th>product_id</th>\n",
       "      <th>user_name</th>\n",
       "      <th>product_name</th>\n",
       "      <th>discounted_price</th>\n",
       "      <th>actual_price</th>\n",
       "      <th>discount_percentage</th>\n",
       "      <th>rating</th>\n",
       "      <th>rating_count</th>\n",
       "      <th>category_1</th>\n",
       "      <th>category_2</th>\n",
       "      <th>rating_score</th>\n",
       "      <th>difference_price</th>\n",
       "      <th>neg</th>\n",
       "      <th>neu</th>\n",
       "      <th>pos</th>\n",
       "      <th>compound</th>\n",
       "    </tr>\n",
       "  </thead>\n",
       "  <tbody>\n",
       "    <tr>\n",
       "      <th>0</th>\n",
       "      <td>0</td>\n",
       "      <td>AG3D6O4STAQKAY2UVGEUV46KN35Q</td>\n",
       "      <td>B07JW9H4J1</td>\n",
       "      <td>Manav</td>\n",
       "      <td>Wayona Nylon Braided USB to Lightning Fast Cha...</td>\n",
       "      <td>399.0</td>\n",
       "      <td>1099.0</td>\n",
       "      <td>0.64</td>\n",
       "      <td>4.2</td>\n",
       "      <td>24269.0</td>\n",
       "      <td>Computers &amp; Accessories</td>\n",
       "      <td>Accessories &amp; Peripherals</td>\n",
       "      <td>Above Average</td>\n",
       "      <td>700.0</td>\n",
       "      <td>0.032</td>\n",
       "      <td>0.744</td>\n",
       "      <td>0.224</td>\n",
       "      <td>0.9033</td>\n",
       "    </tr>\n",
       "    <tr>\n",
       "      <th>1</th>\n",
       "      <td>1</td>\n",
       "      <td>AG3D6O4STAQKAY2UVGEUV46KN35Q</td>\n",
       "      <td>B07JW9H4J1</td>\n",
       "      <td>Manav</td>\n",
       "      <td>Wayona Nylon Braided USB to Lightning Fast Cha...</td>\n",
       "      <td>399.0</td>\n",
       "      <td>1099.0</td>\n",
       "      <td>0.64</td>\n",
       "      <td>4.2</td>\n",
       "      <td>24270.0</td>\n",
       "      <td>Computers &amp; Accessories</td>\n",
       "      <td>Accessories &amp; Peripherals</td>\n",
       "      <td>Above Average</td>\n",
       "      <td>700.0</td>\n",
       "      <td>0.032</td>\n",
       "      <td>0.744</td>\n",
       "      <td>0.224</td>\n",
       "      <td>0.9033</td>\n",
       "    </tr>\n",
       "    <tr>\n",
       "      <th>2</th>\n",
       "      <td>2</td>\n",
       "      <td>AG3D6O4STAQKAY2UVGEUV46KN35Q</td>\n",
       "      <td>B07JW9H4J1</td>\n",
       "      <td>Manav</td>\n",
       "      <td>Wayona Nylon Braided USB to Lightning Fast Cha...</td>\n",
       "      <td>399.0</td>\n",
       "      <td>1099.0</td>\n",
       "      <td>0.64</td>\n",
       "      <td>4.2</td>\n",
       "      <td>24269.0</td>\n",
       "      <td>Computers &amp; Accessories</td>\n",
       "      <td>Accessories &amp; Peripherals</td>\n",
       "      <td>Above Average</td>\n",
       "      <td>700.0</td>\n",
       "      <td>0.032</td>\n",
       "      <td>0.744</td>\n",
       "      <td>0.224</td>\n",
       "      <td>0.9033</td>\n",
       "    </tr>\n",
       "  </tbody>\n",
       "</table>\n",
       "</div>"
      ],
      "text/plain": [
       "   Unnamed: 0                       user_id  product_id user_name  \\\n",
       "0           0  AG3D6O4STAQKAY2UVGEUV46KN35Q  B07JW9H4J1     Manav   \n",
       "1           1  AG3D6O4STAQKAY2UVGEUV46KN35Q  B07JW9H4J1     Manav   \n",
       "2           2  AG3D6O4STAQKAY2UVGEUV46KN35Q  B07JW9H4J1     Manav   \n",
       "\n",
       "                                        product_name  discounted_price  \\\n",
       "0  Wayona Nylon Braided USB to Lightning Fast Cha...             399.0   \n",
       "1  Wayona Nylon Braided USB to Lightning Fast Cha...             399.0   \n",
       "2  Wayona Nylon Braided USB to Lightning Fast Cha...             399.0   \n",
       "\n",
       "   actual_price  discount_percentage  rating  rating_count  \\\n",
       "0        1099.0                 0.64     4.2       24269.0   \n",
       "1        1099.0                 0.64     4.2       24270.0   \n",
       "2        1099.0                 0.64     4.2       24269.0   \n",
       "\n",
       "                category_1                 category_2   rating_score  \\\n",
       "0  Computers & Accessories  Accessories & Peripherals  Above Average   \n",
       "1  Computers & Accessories  Accessories & Peripherals  Above Average   \n",
       "2  Computers & Accessories  Accessories & Peripherals  Above Average   \n",
       "\n",
       "   difference_price    neg    neu    pos  compound  \n",
       "0             700.0  0.032  0.744  0.224    0.9033  \n",
       "1             700.0  0.032  0.744  0.224    0.9033  \n",
       "2             700.0  0.032  0.744  0.224    0.9033  "
      ]
     },
     "execution_count": 10,
     "metadata": {},
     "output_type": "execute_result"
    }
   ],
   "source": [
    "df2.head(3)"
   ]
  },
  {
   "cell_type": "code",
   "execution_count": 12,
   "metadata": {},
   "outputs": [
    {
     "data": {
      "text/plain": [
       "8"
      ]
     },
     "execution_count": 12,
     "metadata": {},
     "output_type": "execute_result"
    }
   ],
   "source": [
    "df2.isnull().sum().sum()"
   ]
  },
  {
   "cell_type": "code",
   "execution_count": null,
   "metadata": {},
   "outputs": [],
   "source": []
  }
 ],
 "metadata": {
  "kernelspec": {
   "display_name": "venv",
   "language": "python",
   "name": "python3"
  },
  "language_info": {
   "codemirror_mode": {
    "name": "ipython",
    "version": 3
   },
   "file_extension": ".py",
   "mimetype": "text/x-python",
   "name": "python",
   "nbconvert_exporter": "python",
   "pygments_lexer": "ipython3",
   "version": "3.10.11"
  }
 },
 "nbformat": 4,
 "nbformat_minor": 2
}
